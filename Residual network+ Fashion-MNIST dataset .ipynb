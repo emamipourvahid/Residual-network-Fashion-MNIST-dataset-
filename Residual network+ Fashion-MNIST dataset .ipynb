{
 "cells": [
  {
   "cell_type": "markdown",
   "metadata": {
    "id": "f0d-2RopbiZQ"
   },
   "source": [
    "## Residual network"
   ]
  },
  {
   "cell_type": "markdown",
   "metadata": {
    "id": "yK03DPBRbiZR"
   },
   "source": [
    "Use the model subclassing API together with custom layers to create a residual network architecture. the train your custom model on the Fashion-MNIST dataset by using a custom training loop and implementing the automatic differentiation tools in Tensorflow to calculate the gradients for backpropagation."
   ]
  },
  {
   "cell_type": "code",
   "execution_count": 1,
   "metadata": {
    "id": "2HDFAM9JbiZT"
   },
   "outputs": [],
   "source": [
    "import tensorflow as tf\n",
    "from tensorflow.keras.models import Model\n",
    "from tensorflow.keras.layers import Layer, BatchNormalization, Conv2D, Dense, Flatten, Add\n",
    "import numpy as np\n",
    "from tensorflow.keras.datasets import fashion_mnist\n",
    "from tensorflow.keras.utils import to_categorical\n",
    "import matplotlib.pyplot as plt"
   ]
  },
  {
   "cell_type": "markdown",
   "metadata": {
    "id": "7LURF_ZYbiZX"
   },
   "source": [
    "#### The Fashion-MNIST dataset\n",
    "\n",
    "Use the [Fashion-MNIST dataset](https://github.com/zalandoresearch/fashion-mnist). It consists of a training set of 60,000 images of fashion items with corresponding labels, and a test set of 10,000 images. The images have been normalised and centred. The dataset is frequently used in machine learning research, especially as a drop-in replacement for the MNIST dataset. "
   ]
  },
  {
   "cell_type": "markdown",
   "metadata": {
    "id": "JikW1jd8biZY"
   },
   "source": [
    "#### Load the dataset"
   ]
  },
  {
   "cell_type": "code",
   "execution_count": 2,
   "metadata": {
    "colab": {
     "base_uri": "https://localhost:8080/"
    },
    "id": "ur9hxTa4biZa",
    "outputId": "c84bbf09-52de-4e91-aa2b-c332a18ffb64"
   },
   "outputs": [
    {
     "name": "stdout",
     "output_type": "stream",
     "text": [
      "Downloading data from https://storage.googleapis.com/tensorflow/tf-keras-datasets/train-labels-idx1-ubyte.gz\n",
      "32768/29515 [=================================] - 0s 0us/step\n",
      "Downloading data from https://storage.googleapis.com/tensorflow/tf-keras-datasets/train-images-idx3-ubyte.gz\n",
      "26427392/26421880 [==============================] - 0s 0us/step\n",
      "Downloading data from https://storage.googleapis.com/tensorflow/tf-keras-datasets/t10k-labels-idx1-ubyte.gz\n",
      "8192/5148 [===============================================] - 0s 0us/step\n",
      "Downloading data from https://storage.googleapis.com/tensorflow/tf-keras-datasets/t10k-images-idx3-ubyte.gz\n",
      "4423680/4422102 [==============================] - 0s 0us/step\n"
     ]
    }
   ],
   "source": [
    "# Load and preprocess the Fashion-MNIST dataset\n",
    "\n",
    "(train_images, train_labels), (test_images, test_labels) = fashion_mnist.load_data()\n",
    "\n",
    "train_images = train_images.astype(np.float32)\n",
    "test_images = test_images.astype(np.float32)\n",
    "\n",
    "train_images = train_images[:5000] / 255.\n",
    "train_labels = train_labels[:5000]\n",
    "\n",
    "test_images = test_images / 255.\n",
    "\n",
    "train_images = train_images[..., np.newaxis]\n",
    "test_images = test_images[..., np.newaxis]"
   ]
  },
  {
   "cell_type": "code",
   "execution_count": 3,
   "metadata": {
    "id": "_nl7FV8GbiZe"
   },
   "outputs": [],
   "source": [
    "# Create Dataset objects for the training and test sets\n",
    "\n",
    "train_dataset = tf.data.Dataset.from_tensor_slices((train_images, train_labels))\n",
    "train_dataset = train_dataset.batch(32)\n",
    "\n",
    "test_dataset = tf.data.Dataset.from_tensor_slices((test_images, test_labels))\n",
    "test_dataset = test_dataset.batch(32)"
   ]
  },
  {
   "cell_type": "code",
   "execution_count": 4,
   "metadata": {
    "id": "-VsLCYrPbiZh"
   },
   "outputs": [],
   "source": [
    "# Get dataset labels\n",
    "\n",
    "image_labels = ['T-shirt/top', 'Trouser', 'Pullover', 'Dress', 'Coat', 'Sandal', 'Shirt', 'Sneaker', 'Bag', 'Ankle boot']"
   ]
  },
  {
   "cell_type": "markdown",
   "metadata": {
    "id": "3UKYy3Q1biZk"
   },
   "source": [
    "#### Create custom layers for the residual blocks"
   ]
  },
  {
   "cell_type": "markdown",
   "metadata": {
    "id": "kqm8M28ZbiZl"
   },
   "source": [
    "Create a first custom layer for a residual block of your network.\n",
    "\n",
    "The custom layer class should have `__init__`, `build` and `call` methods. The `__init__` method has been completed for you. It calls the base `Layer` class initializer, passing on any keyword arguments"
   ]
  },
  {
   "cell_type": "code",
   "execution_count": 11,
   "metadata": {
    "id": "PWXDT-jWbiZm"
   },
   "outputs": [],
   "source": [
    "class ResidualBlock(Layer):\n",
    "\n",
    "    def __init__(self, **kwargs):\n",
    "        super(ResidualBlock, self).__init__(**kwargs)\n",
    "        \n",
    "    def build(self, input_shape):\n",
    "       \n",
    "        self.batch_norm_1 = BatchNormalization(input_shape=input_shape,\n",
    "                                              name='batch_norm1')\n",
    "        self.conv2d_1 = Conv2D(input_shape[-1], (3,3), padding='SAME',\n",
    "                               name='conv2d_1', activation=None)\n",
    "        self.batch_norm_2 = BatchNormalization(name='batch_norm2')\n",
    "        self.conv2d_2 = Conv2D(input_shape[-1], (3,3), padding='SAME',\n",
    "                               name='conv2d_2', activation=None)\n",
    "        \n",
    "        \n",
    "        \n",
    "    def call(self, inputs, training=False):\n",
    "       \n",
    "        x = self.batch_norm_1(inputs=inputs, training=training)\n",
    "        x = tf.nn.relu(x)\n",
    "        x = self.conv2d_1(x)\n",
    "        x = self.batch_norm_2(inputs=x, training=training)\n",
    "        x = tf.nn.relu(x)\n",
    "        x = self.conv2d_2(x)\n",
    "        output = tf.add(inputs, x)\n",
    "        return output\n",
    "\n",
    "        \n",
    "        "
   ]
  },
  {
   "cell_type": "code",
   "execution_count": 12,
   "metadata": {
    "colab": {
     "base_uri": "https://localhost:8080/"
    },
    "id": "SF8Goq8LbiZo",
    "outputId": "a46163d5-923f-4ef8-a1d1-9d4223c45639"
   },
   "outputs": [
    {
     "name": "stdout",
     "output_type": "stream",
     "text": [
      "Model: \"sequential_3\"\n",
      "_________________________________________________________________\n",
      "Layer (type)                 Output Shape              Param #   \n",
      "=================================================================\n",
      "residual_block (ResidualBloc (None, 28, 28, 1)         28        \n",
      "=================================================================\n",
      "Total params: 28\n",
      "Trainable params: 24\n",
      "Non-trainable params: 4\n",
      "_________________________________________________________________\n"
     ]
    }
   ],
   "source": [
    "# Test your custom layer - the following should create a model using your layer\n",
    "\n",
    "test_model = tf.keras.Sequential([ResidualBlock(input_shape=(28, 28, 1), name=\"residual_block\")])\n",
    "test_model.summary()"
   ]
  },
  {
   "cell_type": "markdown",
   "metadata": {
    "id": "Y2PoqmxCbiZy"
   },
   "source": [
    "Create a second custom layer for a residual block of the network. This layer will be used to change the number of filters within the block."
   ]
  },
  {
   "cell_type": "code",
   "execution_count": 15,
   "metadata": {
    "id": "HiK_lavabiZz"
   },
   "outputs": [],
   "source": [
    "class FiltersChangeResidualBlock(Layer):\n",
    "\n",
    "    def __init__(self, out_filters, **kwargs):\n",
    "        \n",
    "        super(FiltersChangeResidualBlock, self).__init__(**kwargs)\n",
    "        self.out_filters = out_filters\n",
    "        \n",
    "        \n",
    "    def build(self, input_shape):\n",
    "       \n",
    "        self.batch_norm_1 = BatchNormalization(input_shape=input_shape,\n",
    "                                              name='batch_norm1')\n",
    "        self.conv2d_1 = Conv2D(input_shape[-1], (3,3), padding='SAME',\n",
    "                               name='conv2d_1', activation=None)\n",
    "        self.batch_norm_2 = BatchNormalization(name='batch_norm2')\n",
    "        self.conv2d_2 = Conv2D(self.out_filters, (3,3), padding='SAME',\n",
    "                               name='conv2d_2', activation=None)\n",
    "        self.conv2d_3 = Conv2D(self.out_filters, (1,1), activation=None)\n",
    "        \n",
    "        \n",
    "        \n",
    "    def call(self, inputs, training=False):\n",
    "        \n",
    "        x = self.batch_norm_1(inputs=inputs, training=training)\n",
    "        x = tf.nn.relu(x)\n",
    "        x = self.conv2d_1(x)\n",
    "        x = self.batch_norm_2(inputs=x, training=training)\n",
    "        x = tf.nn.relu(x)\n",
    "        y = self.conv2d_2(x)\n",
    "        z = self.conv2d_3(inputs)\n",
    "        output = tf.add(y, z)\n",
    "        return output\n",
    "        \n",
    "        "
   ]
  },
  {
   "cell_type": "code",
   "execution_count": 16,
   "metadata": {
    "colab": {
     "base_uri": "https://localhost:8080/"
    },
    "id": "LWacV9I5biZ3",
    "outputId": "7c90ced0-ea01-40fe-c37f-8c02ad715c30"
   },
   "outputs": [
    {
     "name": "stdout",
     "output_type": "stream",
     "text": [
      "Model: \"sequential_5\"\n",
      "_________________________________________________________________\n",
      "Layer (type)                 Output Shape              Param #   \n",
      "=================================================================\n",
      "fc_resnet_block (FiltersChan (None, 32, 32, 16)        620       \n",
      "=================================================================\n",
      "Total params: 620\n",
      "Trainable params: 608\n",
      "Non-trainable params: 12\n",
      "_________________________________________________________________\n"
     ]
    }
   ],
   "source": [
    "# Test your custom layer - the following should create a model using the layer\n",
    "\n",
    "test_model = tf.keras.Sequential([FiltersChangeResidualBlock(16, input_shape=(32, 32, 3), name=\"fc_resnet_block\")])\n",
    "test_model.summary()"
   ]
  },
  {
   "cell_type": "markdown",
   "metadata": {
    "id": "TMY3Ak7YbiZ6"
   },
   "source": [
    "#### Create a custom model that integrates the residual blocks\n",
    "\n",
    "Build the ResNet model. Using model subclassing"
   ]
  },
  {
   "cell_type": "code",
   "execution_count": 28,
   "metadata": {
    "id": "53xs9JBKbiZ7"
   },
   "outputs": [],
   "source": [
    "class ResNetModel(Model):\n",
    "\n",
    "    def __init__(self, **kwargs):\n",
    "        \n",
    "        super(ResNetModel, self).__init__(**kwargs)\n",
    "        self.conv2D_1 = Conv2D(32, (7,7), strides=2)\n",
    "        self.residual_block = ResidualBlock()\n",
    "        self.conv2D_2 = Conv2D(32, (3,3), strides=2)\n",
    "        self.filters_change_residual_block = FiltersChangeResidualBlock(out_filters=64)\n",
    "        self.flatten = Flatten()\n",
    "        self.dense = Dense(10, activation='softmax')\n",
    "                \n",
    "    def call(self, inputs, training=False):\n",
    "       \n",
    "        x = self.conv2D_1(inputs)\n",
    "        x = self.residual_block(x, training=training)\n",
    "        x = self.conv2D_2(x)\n",
    "        x = self.filters_change_residual_block(x, training=training)\n",
    "        x = self.flatten(x)\n",
    "        output = self.dense(x)\n",
    "        return output\n",
    "        "
   ]
  },
  {
   "cell_type": "code",
   "execution_count": 29,
   "metadata": {
    "id": "QZG77KapbiZ-"
   },
   "outputs": [],
   "source": [
    "# Create the model\n",
    "\n",
    "resnet_model = ResNetModel()"
   ]
  },
  {
   "cell_type": "markdown",
   "metadata": {
    "id": "KlHXCYYLbiaB"
   },
   "source": [
    "#### Define the optimizer and loss function"
   ]
  },
  {
   "cell_type": "code",
   "execution_count": 22,
   "metadata": {
    "id": "C33dTTFzbiaC"
   },
   "outputs": [],
   "source": [
    "# Create the optimizer and loss\n",
    "\n",
    "optimizer_obj = tf.keras.optimizers.Adam(learning_rate=0.001)\n",
    "loss_obj = tf.keras.losses.SparseCategoricalCrossentropy()"
   ]
  },
  {
   "cell_type": "markdown",
   "metadata": {
    "id": "wAhzpm3TbiaG"
   },
   "source": [
    "#### Define the grad function"
   ]
  },
  {
   "cell_type": "code",
   "execution_count": 24,
   "metadata": {
    "id": "_6k5MsJVbiaI"
   },
   "outputs": [],
   "source": [
    "@tf.function\n",
    "def grad(model, inputs, targets, loss):\n",
    "    \n",
    "    with tf.GradientTape() as tape:\n",
    "        loss_value = loss(targets, model(inputs))\n",
    "    return loss_value, tape.gradient(loss_value, model.trainable_variables)\n",
    "    \n",
    "    "
   ]
  },
  {
   "cell_type": "markdown",
   "metadata": {
    "id": "p_48RRAGbiaK"
   },
   "source": [
    "#### Define the custom training loop"
   ]
  },
  {
   "cell_type": "code",
   "execution_count": 42,
   "metadata": {
    "id": "JOvFcrLpbiaM"
   },
   "outputs": [],
   "source": [
    "def train_resnet(model, num_epochs, dataset, optimizer, loss, grad_fn):\n",
    "    \n",
    "    # keep results for plotting \n",
    "    train_loss_results = []\n",
    "    train_accuracy_results = []\n",
    "    # loop for number of epochs\n",
    "    for epoch in range(num_epochs):\n",
    "      epoch_loss_avg = tf.keras.metrics.Mean()\n",
    "      epoch_accuracy = tf.keras.metrics.CategoricalAccuracy()\n",
    "\n",
    "      # Training loop\n",
    "      for x, y in dataset:\n",
    "        #optimize the model\n",
    "        loss_value, grads = grad_fn(model, x, y, loss)\n",
    "        optimizer.apply_gradients(zip(grads, model.trainable_variables))\n",
    "\n",
    "        #compute current loss\n",
    "        epoch_loss_avg(loss_value)\n",
    "        # compare predicted label to acutal label\n",
    "        epoch_accuracy(to_categorical(y), model(x))\n",
    "      # end epoch \n",
    "      train_loss_results.append(epoch_loss_avg.result())\n",
    "      train_accuracy_results.append(epoch_accuracy.result())\n",
    "\n",
    "    return train_loss_results, train_accuracy_results\n",
    "    \n",
    "    "
   ]
  },
  {
   "cell_type": "code",
   "execution_count": 43,
   "metadata": {
    "id": "yD9Pxs_PbiaO"
   },
   "outputs": [],
   "source": [
    "# Train the model for 8 epochs\n",
    "\n",
    "train_loss_results, train_accuracy_results = train_resnet(resnet_model, 8, train_dataset, optimizer_obj, \n",
    "                                                          loss_obj, grad)"
   ]
  },
  {
   "cell_type": "markdown",
   "metadata": {
    "id": "9w0AOlo2biaR"
   },
   "source": [
    "#### Plot the learning curves"
   ]
  },
  {
   "cell_type": "code",
   "execution_count": 44,
   "metadata": {
    "colab": {
     "base_uri": "https://localhost:8080/",
     "height": 354
    },
    "id": "EQxQxQxgbiaS",
    "outputId": "88d39571-8450-4e55-ecc3-0394c60d26db"
   },
   "outputs": [
    {
     "data": {
      "image/png": "[encoded data removed]",
      "text/plain": [
       "<Figure size 864x360 with 2 Axes>"
      ]
     },
     "metadata": {
      "needs_background": "light",
      "tags": []
     },
     "output_type": "display_data"
    }
   ],
   "source": [
    "fig, axes = plt.subplots(1, 2, sharex=True, figsize=(12, 5))\n",
    "\n",
    "axes[0].set_xlabel(\"Epochs\", fontsize=14)\n",
    "axes[0].set_ylabel(\"Loss\", fontsize=14)\n",
    "axes[0].set_title('Loss vs epochs')\n",
    "axes[0].plot(train_loss_results)\n",
    "\n",
    "axes[1].set_title('Accuracy vs epochs')\n",
    "axes[1].set_ylabel(\"Accuracy\", fontsize=14)\n",
    "axes[1].set_xlabel(\"Epochs\", fontsize=14)\n",
    "axes[1].plot(train_accuracy_results)\n",
    "plt.show()"
   ]
  },
  {
   "cell_type": "markdown",
   "metadata": {
    "id": "IQ_A0So1biaU"
   },
   "source": [
    "#### Evaluate the model performance on the test dataset"
   ]
  },
  {
   "cell_type": "code",
   "execution_count": 45,
   "metadata": {
    "colab": {
     "base_uri": "https://localhost:8080/"
    },
    "id": "qVyiUCMjbiaV",
    "outputId": "4442eb7a-1ebc-440c-95bb-bb3f565963eb"
   },
   "outputs": [
    {
     "name": "stdout",
     "output_type": "stream",
     "text": [
      "Test loss: 1.098\n",
      "Test accuracy: 82.870%\n"
     ]
    }
   ],
   "source": [
    "# Compute the test loss and accuracy\n",
    "\n",
    "epoch_loss_avg = tf.keras.metrics.Mean()\n",
    "epoch_accuracy = tf.keras.metrics.CategoricalAccuracy()\n",
    "\n",
    "for x, y in test_dataset:\n",
    "    model_output = resnet_model(x)\n",
    "    epoch_loss_avg(loss_obj(y, model_output))  \n",
    "    epoch_accuracy(to_categorical(y), model_output)\n",
    "\n",
    "print(\"Test loss: {:.3f}\".format(epoch_loss_avg.result().numpy()))\n",
    "print(\"Test accuracy: {:.3%}\".format(epoch_accuracy.result().numpy()))"
   ]
  },
  {
   "cell_type": "markdown",
   "metadata": {
    "id": "TTV7htZDbiaX"
   },
   "source": [
    "#### Model predictions\n"
   ]
  },
  {
   "cell_type": "code",
   "execution_count": 46,
   "metadata": {
    "colab": {
     "base_uri": "https://localhost:8080/",
     "height": 716
    },
    "id": "1o1RDRWEbiaY",
    "outputId": "03b25a05-8148-4054-84b9-20e9f8f00372"
   },
   "outputs": [
    {
     "data": {
      "image/png": "[encoded data removed]",
      "text/plain": [
       "<Figure size 1152x864 with 8 Axes>"
      ]
     },
     "metadata": {
      "needs_background": "light",
      "tags": []
     },
     "output_type": "display_data"
    }
   ],
   "source": [
    "# Get model predictions on randomly selected test images\n",
    "\n",
    "num_test_images = test_images.shape[0]\n",
    "\n",
    "random_inx = np.random.choice(test_images.shape[0], 4)\n",
    "random_test_images = test_images[random_inx, ...]\n",
    "random_test_labels = test_labels[random_inx, ...]\n",
    "\n",
    "predictions = resnet_model(random_test_images)\n",
    "\n",
    "fig, axes = plt.subplots(4, 2, figsize=(16, 12))\n",
    "fig.subplots_adjust(hspace=0.5, wspace=-0.2)\n",
    "\n",
    "for i, (prediction, image, label) in enumerate(zip(predictions, random_test_images, random_test_labels)):\n",
    "    axes[i, 0].imshow(np.squeeze(image))\n",
    "    axes[i, 0].get_xaxis().set_visible(False)\n",
    "    axes[i, 0].get_yaxis().set_visible(False)\n",
    "    axes[i, 0].text(5., -2., f'Class {label} ({image_labels[label]})')\n",
    "    axes[i, 1].bar(np.arange(len(prediction)), prediction)\n",
    "    axes[i, 1].set_xticks(np.arange(len(prediction)))\n",
    "    axes[i, 1].set_xticklabels(image_labels, rotation=0)\n",
    "    pred_inx = np.argmax(prediction)\n",
    "    axes[i, 1].set_title(f\"Categorical distribution. Model prediction: {image_labels[pred_inx]}\")\n",
    "    \n",
    "plt.show()"
   ]
  }
 ],
 "metadata": {
  "colab": {
   "collapsed_sections": [],
   "name": "Copy of Week 4 Programming Assignment.ipynb",
   "provenance": []
  },
  "coursera": {
   "course_slug": "tensor-flow-2-2",
   "graded_item_id": "2x3vn",
   "launcher_item_id": "QKXZc"
  },
  "kernelspec": {
   "display_name": "Python 3 (ipykernel)",
   "language": "python",
   "name": "python3"
  },
  "language_info": {
   "codemirror_mode": {
    "name": "ipython",
    "version": 3
   },
   "file_extension": ".py",
   "mimetype": "text/x-python",
   "name": "python",
   "nbconvert_exporter": "python",
   "pygments_lexer": "ipython3",
   "version": "3.9.13"
  }
 },
 "nbformat": 4,
 "nbformat_minor": 4
}
